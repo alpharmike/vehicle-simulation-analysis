{
 "cells": [
  {
   "cell_type": "code",
   "execution_count": 3,
   "id": "initial_id",
   "metadata": {
    "collapsed": true,
    "ExecuteTime": {
     "end_time": "2025-02-12T00:45:02.531035666Z",
     "start_time": "2025-02-12T00:44:55.869770934Z"
    }
   },
   "outputs": [],
   "source": [
    "from ortools.linear_solver import pywraplp\n",
    "import pandas as pd\n",
    "import math"
   ]
  },
  {
   "cell_type": "markdown",
   "source": [
    "### Links\n",
    "\n",
    "https://kunlei.github.io/python-ortools-notes/"
   ],
   "metadata": {
    "collapsed": false
   },
   "id": "9ef28ce270b50bd7"
  },
  {
   "cell_type": "code",
   "execution_count": 4,
   "outputs": [],
   "source": [
    "# Load data from the Excel file\n",
    "file_path = \"../data/VOSimu-InputInformation.xlsx\"\n",
    "\n",
    "locations_df = pd.read_excel(file_path, sheet_name=\"Locations\")\n",
    "vehicles_df = pd.read_excel(file_path, sheet_name=\"Vehicles\")\n",
    "orders_df = pd.read_excel(file_path, sheet_name=\"ContainerOrders\")"
   ],
   "metadata": {
    "collapsed": false,
    "ExecuteTime": {
     "end_time": "2025-02-12T00:45:04.308772544Z",
     "start_time": "2025-02-12T00:45:02.530861188Z"
    }
   },
   "id": "70f62d807cc94837"
  },
  {
   "cell_type": "code",
   "execution_count": 5,
   "outputs": [
    {
     "data": {
      "text/plain": "       TractorOrderId ContainerOrderId ContainerName  Length OriginLocation  \\\n0    TO_CO_TFTU000067    CO_TFTU000067    TFTU000067      20        QC005     \n1    TO_CO_TFTU000121    CO_TFTU000121    TFTU000121      40        QC003     \n2    TO_CO_TFTU000156    CO_TFTU000156    TFTU000156      40        QC006     \n3    TO_CO_TFTU000175    CO_TFTU000175    TFTU000175      40        QC003     \n4    TO_CO_TFTU000211    CO_TFTU000211    TFTU000211      40        QC005     \n..                ...              ...           ...     ...            ...   \n281  TO_CO_TFTU000151    CO_TFTU000151    TFTU000151      20        QC006     \n282  TO_CO_TFTU000166    CO_TFTU000166    TFTU000166      20        QC003     \n283  TO_CO_TFTU000059    CO_TFTU000059    TFTU000059      20        QC006     \n284  TO_CO_TFTU000005    CO_TFTU000005    TFTU000005      20        QC003     \n285  TO_CO_TFTU000097    CO_TFTU000097    TFTU000097      20        QC003     \n\n    DestinationLocation    Time first known  \n0              WS001.01 2024-08-21 07:12:00  \n1              WS001.01 2024-08-21 07:21:00  \n2              WS001.01 2024-08-21 07:28:00  \n3              WS001.01 2024-08-21 07:35:00  \n4              WS001.01 2024-08-21 07:45:00  \n..                  ...                 ...  \n281          YARD001.57 2024-08-21 07:27:00  \n282          YARD001.57 2024-08-21 07:31:00  \n283          YARD001.58 2024-08-21 07:11:00  \n284          YARD001.59 2024-08-21 07:01:00  \n285          YARD001.62 2024-08-21 07:17:00  \n\n[286 rows x 7 columns]",
      "text/html": "<div>\n<style scoped>\n    .dataframe tbody tr th:only-of-type {\n        vertical-align: middle;\n    }\n\n    .dataframe tbody tr th {\n        vertical-align: top;\n    }\n\n    .dataframe thead th {\n        text-align: right;\n    }\n</style>\n<table border=\"1\" class=\"dataframe\">\n  <thead>\n    <tr style=\"text-align: right;\">\n      <th></th>\n      <th>TractorOrderId</th>\n      <th>ContainerOrderId</th>\n      <th>ContainerName</th>\n      <th>Length</th>\n      <th>OriginLocation</th>\n      <th>DestinationLocation</th>\n      <th>Time first known</th>\n    </tr>\n  </thead>\n  <tbody>\n    <tr>\n      <th>0</th>\n      <td>TO_CO_TFTU000067</td>\n      <td>CO_TFTU000067</td>\n      <td>TFTU000067</td>\n      <td>20</td>\n      <td>QC005</td>\n      <td>WS001.01</td>\n      <td>2024-08-21 07:12:00</td>\n    </tr>\n    <tr>\n      <th>1</th>\n      <td>TO_CO_TFTU000121</td>\n      <td>CO_TFTU000121</td>\n      <td>TFTU000121</td>\n      <td>40</td>\n      <td>QC003</td>\n      <td>WS001.01</td>\n      <td>2024-08-21 07:21:00</td>\n    </tr>\n    <tr>\n      <th>2</th>\n      <td>TO_CO_TFTU000156</td>\n      <td>CO_TFTU000156</td>\n      <td>TFTU000156</td>\n      <td>40</td>\n      <td>QC006</td>\n      <td>WS001.01</td>\n      <td>2024-08-21 07:28:00</td>\n    </tr>\n    <tr>\n      <th>3</th>\n      <td>TO_CO_TFTU000175</td>\n      <td>CO_TFTU000175</td>\n      <td>TFTU000175</td>\n      <td>40</td>\n      <td>QC003</td>\n      <td>WS001.01</td>\n      <td>2024-08-21 07:35:00</td>\n    </tr>\n    <tr>\n      <th>4</th>\n      <td>TO_CO_TFTU000211</td>\n      <td>CO_TFTU000211</td>\n      <td>TFTU000211</td>\n      <td>40</td>\n      <td>QC005</td>\n      <td>WS001.01</td>\n      <td>2024-08-21 07:45:00</td>\n    </tr>\n    <tr>\n      <th>...</th>\n      <td>...</td>\n      <td>...</td>\n      <td>...</td>\n      <td>...</td>\n      <td>...</td>\n      <td>...</td>\n      <td>...</td>\n    </tr>\n    <tr>\n      <th>281</th>\n      <td>TO_CO_TFTU000151</td>\n      <td>CO_TFTU000151</td>\n      <td>TFTU000151</td>\n      <td>20</td>\n      <td>QC006</td>\n      <td>YARD001.57</td>\n      <td>2024-08-21 07:27:00</td>\n    </tr>\n    <tr>\n      <th>282</th>\n      <td>TO_CO_TFTU000166</td>\n      <td>CO_TFTU000166</td>\n      <td>TFTU000166</td>\n      <td>20</td>\n      <td>QC003</td>\n      <td>YARD001.57</td>\n      <td>2024-08-21 07:31:00</td>\n    </tr>\n    <tr>\n      <th>283</th>\n      <td>TO_CO_TFTU000059</td>\n      <td>CO_TFTU000059</td>\n      <td>TFTU000059</td>\n      <td>20</td>\n      <td>QC006</td>\n      <td>YARD001.58</td>\n      <td>2024-08-21 07:11:00</td>\n    </tr>\n    <tr>\n      <th>284</th>\n      <td>TO_CO_TFTU000005</td>\n      <td>CO_TFTU000005</td>\n      <td>TFTU000005</td>\n      <td>20</td>\n      <td>QC003</td>\n      <td>YARD001.59</td>\n      <td>2024-08-21 07:01:00</td>\n    </tr>\n    <tr>\n      <th>285</th>\n      <td>TO_CO_TFTU000097</td>\n      <td>CO_TFTU000097</td>\n      <td>TFTU000097</td>\n      <td>20</td>\n      <td>QC003</td>\n      <td>YARD001.62</td>\n      <td>2024-08-21 07:17:00</td>\n    </tr>\n  </tbody>\n</table>\n<p>286 rows × 7 columns</p>\n</div>"
     },
     "execution_count": 5,
     "metadata": {},
     "output_type": "execute_result"
    }
   ],
   "source": [
    "orders_df"
   ],
   "metadata": {
    "collapsed": false,
    "ExecuteTime": {
     "end_time": "2025-02-12T00:45:04.493329741Z",
     "start_time": "2025-02-12T00:45:04.413735402Z"
    }
   },
   "id": "afa3e1ff440d9988"
  },
  {
   "cell_type": "code",
   "execution_count": null,
   "outputs": [],
   "source": [
    "# Helper function to calculate Manhattan distance\n",
    "def manhattan_distance(x1, y1, x2, y2):\n",
    "    return abs(x1 - x2) + abs(y1 - y2)\n",
    "\n",
    "# Parameters\n",
    "VEHICLE_SPEED = 5545  # mm/s\n",
    "PICKUP_DROPOFF_TIME = 60  # seconds\n",
    "\n",
    "# Build location and vehicle data structures\n",
    "locations = {row[\"Location Name\"].strip(): (row[\"X-Coordinate [mm]\"], row[\"Y-Coordinate [mm]\"], row[\"Capacity limitation (# SC)\"]) for _, row in locations_df.iterrows()}\n",
    "vehicles = {row[\"ID\"]: {\"start_time\": row[\"LogOn\"], \"end_time\": row[\"LogOff\"], \"initial_location\": row[\"StartLocation\"]} for _, row in vehicles_df.iterrows()}\n",
    "orders = []\n",
    "for _, row in orders_df.iterrows():\n",
    "    orders.append({\n",
    "        \"id\": row[\"ContainerOrderId\"],\n",
    "        \"origin\": row[\"OriginLocation\"].strip(),\n",
    "        \"destination\": row[\"DestinationLocation\"].strip(),\n",
    "        \"length\": row[\"Length\"],\n",
    "        \"time_first_known\": row[\"Time first known\"]\n",
    "    })\n",
    "\n",
    "# Create the solver\n",
    "solver = pywraplp.Solver.CreateSolver('SCIP')\n",
    "if not solver:\n",
    "    raise Exception(\"SCIP solver is not available.\")\n",
    "\n",
    "# Define decision variables\n",
    "x = {}\n",
    "arrival_time = {}\n",
    "for v in vehicles:\n",
    "    for o in orders:\n",
    "        x[v, o[\"id\"]] = solver.IntVar(0, 1, f'x[{v},{o[\"id\"]}]')  # 1 if vehicle v is assigned to order o, otherwise 0\n",
    "        arrival_time[v, o[\"id\"]] = solver.NumVar(0, solver.infinity(), f'arrival_time[{v},{o[\"id\"]}]')\n",
    "\n",
    "# Objective: Minimize total travel time (distance / speed) + waiting time + pickup/drop-off time\n",
    "total_time = solver.Sum(\n",
    "    (\n",
    "        manhattan_distance(\n",
    "            *locations[o[\"origin\"]][:2], *locations[o[\"destination\"]][:2]\n",
    "        ) / VEHICLE_SPEED + 2 * PICKUP_DROPOFF_TIME  # Travel time + pickup and drop-off time\n",
    "    ) * x[v, o[\"id\"]]\n",
    "    for v in vehicles for o in orders\n",
    ")\n",
    "solver.Minimize(total_time)\n",
    "\n",
    "# Constraints\n",
    "# 1. Each order must be assigned to exactly one vehicle\n",
    "for o in orders:\n",
    "    solver.Add(solver.Sum(x[v, o[\"id\"]] for v in vehicles) == 1)\n",
    "\n",
    "# 2. Capacity constraints at each location\n",
    "for loc in locations:\n",
    "    if locations[loc][2]:  # Only apply if capacity is limited\n",
    "        cap = locations[loc][2]\n",
    "        for t in range(24 * 60 * 60):  # Time slots in seconds (assuming max 24h schedule)\n",
    "            solver.Add(\n",
    "                solver.Sum(\n",
    "                    x[v, o[\"id\"]] for v in vehicles for o in orders\n",
    "                    if o[\"origin\"] == loc or o[\"destination\"] == loc and arrival_time[v, o[\"id\"]] <= t\n",
    "                ) <= cap\n",
    "            )\n",
    "\n",
    "# 3. Vehicle availability constraints\n",
    "for v in vehicles:\n",
    "    start = vehicles[v][\"start_time\"]\n",
    "    end = vehicles[v][\"end_time\"]\n",
    "    for o in orders:\n",
    "        solver.Add(x[v, o[\"id\"]] * (o[\"time_first_known\"] >= start) * (o[\"time_first_known\"] <= end))\n",
    "\n",
    "# Solve the model\n",
    "status = solver.Solve()\n",
    "\n",
    "# Output results\n",
    "if status == pywraplp.Solver.OPTIMAL:\n",
    "    print(\"Optimal solution found!\")\n",
    "    for v in vehicles:\n",
    "        assigned_orders = [o[\"id\"] for o in orders if x[v, o[\"id\"]].solution_value() == 1]\n",
    "        for o_id in assigned_orders:\n",
    "            travel_time = manhattan_distance(\n",
    "                *locations[orders[o_id - 1][\"origin\"]][:2], *locations[orders[o_id - 1][\"destination\"]][:2]\n",
    "            ) / VEHICLE_SPEED\n",
    "            print(f\"Vehicle {v} assigned to order {o_id}, travel time: {travel_time:.2f}s\")\n",
    "    print(f\"Total time: {total_time.solution_value()} seconds\")\n",
    "else:\n",
    "    print(\"No optimal solution found.\")\n"
   ],
   "metadata": {
    "collapsed": false
   },
   "id": "5c1a47e6cb3f313f"
  },
  {
   "cell_type": "code",
   "execution_count": null,
   "outputs": [],
   "source": [],
   "metadata": {
    "collapsed": false
   },
   "id": "33cdb3d87334040f"
  }
 ],
 "metadata": {
  "kernelspec": {
   "display_name": "Python 3",
   "language": "python",
   "name": "python3"
  },
  "language_info": {
   "codemirror_mode": {
    "name": "ipython",
    "version": 2
   },
   "file_extension": ".py",
   "mimetype": "text/x-python",
   "name": "python",
   "nbconvert_exporter": "python",
   "pygments_lexer": "ipython2",
   "version": "2.7.6"
  }
 },
 "nbformat": 4,
 "nbformat_minor": 5
}
