{
 "cells": [
  {
   "cell_type": "code",
   "id": "initial_id",
   "metadata": {
    "collapsed": true,
    "ExecuteTime": {
     "end_time": "2025-02-14T22:39:48.224878Z",
     "start_time": "2025-02-14T22:39:47.425920Z"
    }
   },
   "source": [
    "import numpy as np\n",
    "from ortools.linear_solver import pywraplp\n",
    "from ortools.constraint_solver import routing_enums_pb2\n",
    "from ortools.constraint_solver import pywrapcp\n",
    "\n",
    "from itertools import product\n",
    "import pandas as pd\n",
    "import math\n",
    "\n",
    "from vsim.utils import get_processed_metadata"
   ],
   "outputs": [],
   "execution_count": 1
  },
  {
   "cell_type": "code",
   "source": [
    "# Load data from the Excel file\n",
    "file_path = \"../data/VOSimu-InputInformation.xlsx\"\n",
    "\n",
    "loc_df, vehicles_df, co_df = get_processed_metadata(meta_file_path=file_path)"
   ],
   "metadata": {
    "collapsed": false,
    "ExecuteTime": {
     "end_time": "2025-02-14T22:39:48.433257Z",
     "start_time": "2025-02-14T22:39:48.226793Z"
    }
   },
   "id": "70f62d807cc94837",
   "outputs": [],
   "execution_count": 2
  },
  {
   "metadata": {
    "ExecuteTime": {
     "end_time": "2025-02-14T23:05:56.420520Z",
     "start_time": "2025-02-14T23:05:56.417115Z"
    }
   },
   "cell_type": "code",
   "source": [
    "# Helper function to calculate Manhattan distance\n",
    "def manhattan_distance(x1, y1, x2, y2):\n",
    "    return abs(x1 - x2) + abs(y1 - y2)"
   ],
   "id": "5a52f1ee04798194",
   "outputs": [],
   "execution_count": 22
  },
  {
   "metadata": {},
   "cell_type": "markdown",
   "source": "",
   "id": "38694cda195de8d8"
  },
  {
   "metadata": {
    "ExecuteTime": {
     "end_time": "2025-02-14T23:07:00.286303Z",
     "start_time": "2025-02-14T23:07:00.280313Z"
    }
   },
   "cell_type": "code",
   "source": [
    "class VSDataCenter:\n",
    "    def __init__(self, data_file):\n",
    "        self._locations = {}\n",
    "        self._vehicles = {}\n",
    "        self._container_orders = {}\n",
    "        self._distance_matrix = None\n",
    "\n",
    "        self._read_data(data_file)\n",
    "        self._create_distance_matrix()\n",
    "\n",
    "    def _read_data(self, data_file):\n",
    "        locations_df, vehicles_df, container_orders_df = get_processed_metadata(meta_file_path=data_file)\n",
    "        self._locations = locations_df.set_index(\"location_name\").to_dict(\"index\")\n",
    "        self._vehicles = vehicles_df.set_index(\"id\").to_dict(\"index\")\n",
    "        self._container_orders = container_orders_df.set_index(\"co_id\").to_dict(\"index\")\n",
    "\n",
    "    def _create_distance_matrix(self):\n",
    "        num_locations = len(self._locations)\n",
    "        distance_matrix = np.zeros((num_locations, num_locations))\n",
    "        locations = list(self._locations.values())\n",
    "        for i, j in product(range(num_locations), range(num_locations)):\n",
    "            x1, y1, x2, y2 = locations[i]['x'], locations[i]['y'], locations[j]['x'], locations[j]['y']\n",
    "            distance_matrix[i, j] = manhattan_distance(x1, y1, x2, y2)\n",
    "\n",
    "        self._distance_matrix = distance_matrix\n",
    "\n",
    "    def get_distance(self, loc_1, loc_2):\n",
    "        loc_1_idx = self.locations.keys().index(loc_1)\n",
    "        loc_2_idx = self.locations.keys().index(loc_2)\n",
    "        return self.distance_matrix[loc_1_idx][loc_2_idx]\n",
    "\n",
    "    @property\n",
    "    def locations(self): return self._locations.copy()\n",
    "\n",
    "    @property\n",
    "    def vehicles(self): return self._vehicles.copy()\n",
    "\n",
    "    @property\n",
    "    def container_orders(self): return self._container_orders.copy()\n",
    "\n",
    "    @property\n",
    "    def distance_matrix(self): return np.copy(self._distance_matrix)\n",
    "\n",
    "\n"
   ],
   "id": "df1698eede484128",
   "outputs": [],
   "execution_count": 25
  },
  {
   "metadata": {
    "ExecuteTime": {
     "end_time": "2025-02-14T23:08:22.801477Z",
     "start_time": "2025-02-14T23:08:22.683126Z"
    }
   },
   "cell_type": "code",
   "source": "data_center = VSDataCenter(data_file=file_path)",
   "id": "51ef0f3ef8d0ba51",
   "outputs": [],
   "execution_count": 32
  },
  {
   "metadata": {},
   "cell_type": "code",
   "outputs": [],
   "execution_count": null,
   "source": [
    "class VSSolver:\n",
    "    def __init__(self, data_center):\n",
    "        self._data_center: VSDataCenter = data_center\n",
    "\n",
    "        self._solver = None\n",
    "        self._var_x = None\n",
    "        self._var_y = None\n",
    "\n",
    "        self._opt_obj = None\n",
    "        self._opt_x = None\n",
    "\n",
    "    def build_model(self):\n",
    "        self._solver = pywraplp.Solver.CreateSolver('SCIP')\n",
    "\n",
    "        self._create_variables()\n",
    "        self._create_objective()\n",
    "        self._create_constraints()\n",
    "\n",
    "    def optimize(self):\n",
    "        self._solver.SetTimeLimit(20000)\n",
    "        status = self._solver.Solve()\n",
    "        if status == pywraplp.Solver.OPTIMAL:\n",
    "            vehicles = self._data_center.vehicles\n",
    "            orders = self._data_center.container_orders\n",
    "            self._opt_obj = self._solver.Objective().Value()\n",
    "            self._opt_x = {(v, o): 0 for v in vehicles for o in orders}\n",
    "            for v, o in product(vehicles, orders):\n",
    "                self._opt_x[v, o] = self._var_x[v, o].solution_value()\n",
    "\n",
    "    def _create_variables(self):\n",
    "        vehicles = self._data_center.vehicles\n",
    "        orders = self._data_center.container_orders\n",
    "\n",
    "        self._var_x = {}\n",
    "        for v in vehicles:\n",
    "            for o in orders:\n",
    "                self._var_x[v, o] = self._solver.IntVar(0, 1, f'x[{v},{o}]')\n",
    "\n",
    "    def _create_objective(self):\n",
    "        vehicles = self._data_center.vehicles\n",
    "        orders = self._data_center.container_orders\n",
    "\n",
    "        obj_expr = []\n",
    "        for v in vehicles:\n",
    "            for o in orders:\n",
    "                v_loc = v['start_location']\n",
    "                o_origin = o['origin']\n",
    "                o_dest = o['dest']\n",
    "\n",
    "                v_to_origin = self._data_center.get_distance(v_loc, o_origin)\n",
    "                origin_to_dest = self._data_center.get_distance(o_origin, o_dest)\n",
    "\n",
    "                obj_expr.append((v_to_origin + origin_to_dest) * self._var_x[v, o])\n",
    "\n",
    "        self._solver.Minimize(self._solver.Sum(obj_expr))\n",
    "\n",
    "    def _create_constraints(self):\n",
    "        locations = self._data_center.locations\n",
    "        vehicles = self._data_center.vehicles\n",
    "        orders = self._data_center.container_orders\n",
    "\n",
    "        # C1: Each order must be assigned to exactly one vehicle        \n",
    "        for o in orders:\n",
    "            self._solver.Add(\n",
    "                self._solver.Sum(self._var_x[v, o] for v in vehicles) == 1\n",
    "            )\n",
    "\n",
    "        # C2: Number of vehicles dispatched to a location should not exceed its capacity\n",
    "        for loc, loc_data in locations.items():\n",
    "            expr = [\n",
    "                self._var_x[v, o]\n",
    "                for v in vehicles\n",
    "                for o in orders\n",
    "                if o['origin'] == loc\n",
    "            ]\n",
    "            self._solver.Add(\n",
    "                self._solver.Sum(expr) <= loc_data['capacity']\n",
    "            )"
   ],
   "id": "3b8e730098b5f843"
  }
 ],
 "metadata": {
  "kernelspec": {
   "display_name": "Python 3",
   "language": "python",
   "name": "python3"
  },
  "language_info": {
   "codemirror_mode": {
    "name": "ipython",
    "version": 2
   },
   "file_extension": ".py",
   "mimetype": "text/x-python",
   "name": "python",
   "nbconvert_exporter": "python",
   "pygments_lexer": "ipython2",
   "version": "2.7.6"
  }
 },
 "nbformat": 4,
 "nbformat_minor": 5
}
