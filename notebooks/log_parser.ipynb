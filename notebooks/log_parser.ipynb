{
 "cells": [
  {
   "cell_type": "code",
   "execution_count": 52,
   "id": "initial_id",
   "metadata": {
    "collapsed": true,
    "ExecuteTime": {
     "end_time": "2025-02-08T18:37:02.277750009Z",
     "start_time": "2025-02-08T18:37:02.233016459Z"
    }
   },
   "outputs": [],
   "source": [
    "import re\n",
    "from typing import Optional\n",
    "import pandas as pd"
   ]
  },
  {
   "cell_type": "markdown",
   "source": [
    "## Summary of Actions\n",
    "\n",
    "\n",
    "- The Simulator adds the container to the realm of the Optimizer: 2024-11-14 10:26:30 INFO adding TO TO_CO_TFTU000001, EMT 2024-11-14 10:26:28+01:00\n",
    "- The Simulator lets your own Vehicle Optimizer run every certain amount of time and the logs show the job sequence per Straddle Carrier per Optimization run:\n",
    "    - 2024-11-14 10:27:07 INFO SC001 schedule 1:TO_CO_TFTU000018#CO_TFTU000018#PICK,2:TO_CO_TFTU000018#CO_TFTU000018#DROP\n",
    "    - 2024-11-14 10:27:07 INFO SC002 schedule 1:TO_CO_TFTU000023#CO_TFTU000023#PICK,2:TO_CO_TFTU000023#CO_TFTU000023#DROP\n",
    "\n",
    "- Additional information regarding what a Straddle Carrier does it listed as follows:\n",
    "    - 2024-11-14 10:27:07 INFO SC001 starting TO_CO_TFTU000018#CO_TFTU000018#PICK: travel 2024-11-14 10:27:00+01:00\n",
    "    - 2024-11-14 10:27:30+01:00, action 2024-11-14 10:27:30+01:00 - 2024-11-14 10:28:30+01:00 (to pick up the container, the Straddle Carrier has to travel (30 seconds) and pick up the container (60 seconds).\n",
    "    - 2024-11-14 10:27:10 INFO SC001 (TO: TO_CO_TFTU000018, CO: CO_TFTU000018, PICK) driving to QC003; 31 s; 172693 mm (Straddle Carrier is driving to a location, driving time and distance is shown – distance is measured in Manhattan Distance)\n",
    "    - 2024-11-14 10:27:10 DEBUG location QC001: using lane 0 for CO CO_TFTU000001 (shows when a Straddle Carrier is using one of the available and limited spaces in a location)\n",
    "    - 2024-11-14 10:27:10 INFO SC004 (TO: TO_CO_TFTU000001, CO: CO_TFTU000001, PICK) working at QC001; 60 s (the straddle carrier is picking up the container)\n",
    "    - 2024-11-14 10:28:07 DEBUG location QC001: freeing lane 0 for CO CO_TFTU000001 (Straddle Carrier has freed up the limited space in a location)\n",
    "    - 2024-11-14 10:28:07 INFO SC004 (TO: TO_CO_TFTU000001, CO: CO_TFTU000001, PICK) finished at QC001 (Straddle Carrier has finished picking up the container)\n",
    "    - 2024-11-14 10:28:07 DEBUG finished expected schedule_element TO_CO_TFTU000001#CO_TFTU000001#PICK (Straddle Carrier has finished the logical element of the PICK which we call “schedule_element”)"
   ],
   "metadata": {
    "collapsed": false
   },
   "id": "2b55155593a190dd"
  },
  {
   "cell_type": "code",
   "execution_count": 16,
   "outputs": [],
   "source": [
    "log_file_path = \"../data/logger_all.log\""
   ],
   "metadata": {
    "collapsed": false,
    "ExecuteTime": {
     "end_time": "2025-02-08T17:43:47.882363548Z",
     "start_time": "2025-02-08T17:43:47.847115448Z"
    }
   },
   "id": "fd4d3a42434cb838"
  },
  {
   "cell_type": "code",
   "execution_count": 17,
   "outputs": [],
   "source": [
    "log_lines = open(log_file_path, \"r\").readlines()"
   ],
   "metadata": {
    "collapsed": false,
    "ExecuteTime": {
     "end_time": "2025-02-08T17:43:48.997722640Z",
     "start_time": "2025-02-08T17:43:48.194729649Z"
    }
   },
   "id": "1833ffd55828e06f"
  },
  {
   "cell_type": "code",
   "execution_count": 114,
   "outputs": [],
   "source": [
    "datetime_pattern = r\"\\d{4}-\\d{2}-\\d{2} \\d{2}:\\d{2}:\\d{2}\"\n",
    "log_level_pattern = r\"[A-Z]+\"\n",
    "vehicle_id_pattern = r\"SC\\d{3}\"\n",
    "to_id_pattern = r\"TO_CO_TFTU\\d{6}\"\n",
    "co_id_pattern = r\"CO_TFTU\\d{6}\"\n",
    "vehicle_status_pattern = r\"(finished|working|waited)\"\n",
    "action_pattern = r\"(PICK|DROP)\"\n",
    "tz_aware_datetime_pattern = r\"\\d{4}-\\d{2}-\\d{2} \\d{2}:\\d{2}:\\d{2}[+-]\\d{2}:\\d{2}\"\n",
    "location_pattern = r\"((QC)\\d{3}|(RAIL)\\d{3}.\\d{2,3}|(WS|YARD)\\d{3}.\\d{2})\"\n",
    "\n",
    "log_patterns = {\n",
    "    \"container_submission\": re.compile(\n",
    "        rf\"(?P<log_time>{datetime_pattern})\\s+\"\n",
    "        rf\"(?P<log_level>{log_level_pattern})\\s+\"\n",
    "        rf\"adding TO (?P<to_id>{to_id_pattern}),\\s+\"\n",
    "        rf\"EMT (?P<submission_time>{tz_aware_datetime_pattern})\"\n",
    "    ),\n",
    "    \"schedule\": re.compile(\n",
    "        rf\"(?P<log_time>{datetime_pattern})\\s+\"\n",
    "        rf\"(?P<log_level>{log_level_pattern})\\s+\"\n",
    "        rf\"(?P<vehicle_id>{vehicle_id_pattern})\\s+\"\n",
    "        rf\"schedule\\s+(\\d:({to_id_pattern})#({co_id_pattern})#({action_pattern}),?)+\"\n",
    "    ),\n",
    "    \"travel_action\": re.compile(\n",
    "        rf\"(?P<log_time>{datetime_pattern})\\s+\"  # Log timestamp\n",
    "        rf\"(?P<log_level>{log_level_pattern})\\s+\"  # Log level (INFO, ERROR, etc.)\n",
    "        rf\"(?P<vehicle_id>{vehicle_id_pattern})\\s+starting\\s+\"  # Vehicle ID\n",
    "        rf\"(?P<to_id>{to_id_pattern})#\"  # TO ID\n",
    "        rf\"(?P<co_id>{co_id_pattern})#\"  # CO ID\n",
    "        rf\"(?P<action>{action_pattern}):\\s+travel\\s+\"  # Action type\n",
    "        rf\"(?P<travel_start_time>{tz_aware_datetime_pattern})\\s*-\\s*\"  # Travel start time\n",
    "        rf\"(?P<travel_end_time>{tz_aware_datetime_pattern}),\\s*action\\s+\"  # Travel end time\n",
    "        rf\"(?P<action_start_time>{tz_aware_datetime_pattern})\\s*-\\s*\"  # Action start time\n",
    "        rf\"(?P<action_end_time>{tz_aware_datetime_pattern})\"  # Action end time\n",
    "    ),\n",
    "    \"driving\": re.compile(\n",
    "        rf\"(?P<log_time>{datetime_pattern})\\s+\"  # Log timestamp\n",
    "        rf\"(?P<log_level>{log_level_pattern})\\s+\"  # Log level (INFO, WARN, etc.)\n",
    "        rf\"(?P<vehicle_id>{vehicle_id_pattern})\\s+\"  # Vehicle ID\n",
    "        rf\"\\(TO:\\s+(?P<to_id>{to_id_pattern}),\\s+\"  # TO ID\n",
    "        rf\"CO:\\s+(?P<co_id>{co_id_pattern}),\\s+\"  # CO ID\n",
    "        rf\"(?P<action>{action_pattern})\\)\\s+\"  # Action type (e.g., PICK, DROP)\n",
    "        rf\"driving to\\s+(?P<location_name>{location_pattern});\\s+\"  # Location name\n",
    "        rf\"(?P<duration_in_s>\\d+)\\s+s;\\s+\"  # Duration in seconds\n",
    "        rf\"(?P<distance_in_mm>\\d+)\\s+mm\"  # Distance in millimeters\n",
    "    ),\n",
    "    \"lane_usage\": re.compile(\n",
    "        rf\"(?P<log_time>{datetime_pattern})\\s+\"  # Log timestamp\n",
    "        rf\"(?P<log_level>{log_level_pattern})\\s+\"  # Log level (DEBUG, INFO, etc.)\n",
    "        rf\"location\\s+(?P<location_name>{location_pattern}):\\s+\"  # Location name\n",
    "        rf\"(?P<action>(using|freeing))\\s+\"\n",
    "        rf\"lane\\s+(?P<lane_number>\\d+)\\s+for CO\\s+\"  # Lane number\n",
    "        rf\"(?P<co_id>{co_id_pattern})\"  # CO ID\n",
    "    ),\n",
    "    \"action\": re.compile(\n",
    "        rf\"(?P<log_time>{datetime_pattern})\\s+\"  # Log timestamp\n",
    "        rf\"(?P<log_level>{log_level_pattern})\\s+\"  # Log level (INFO, DEBUG, etc.)\n",
    "        rf\"(?P<vehicle_id>{vehicle_id_pattern})\\s+\"  # Vehicle ID\n",
    "        rf\"\\(TO:\\s+(?P<to_id>{to_id_pattern}),\\s+\"  # TO ID\n",
    "        rf\"CO:\\s+(?P<co_id>{co_id_pattern}),\\s+\"  # CO ID\n",
    "        rf\"(?P<action>{action_pattern})\\)\\s+\"  # Action type (PICK, DROP)\n",
    "        rf\"(?P<status>{vehicle_status_pattern})\\s+at\\s+\"  # Vehicle status (finished, working, waited)\n",
    "        rf\"(?P<location_name>{location_pattern})\"  # Location name\n",
    "        rf\"(;\\s+(?P<duration_in_s>\\d+)\\s+s)?\"  # Duration in seconds\n",
    "    ),\n",
    "    \"schedule_element\": re.compile(\n",
    "        rf\"(?P<log_time>{datetime_pattern})\\s+\"  # Log timestamp\n",
    "        rf\"(?P<log_level>{log_level_pattern})\\s+\"  # Log level (DEBUG, INFO, etc.)\n",
    "        rf\"finished expected schedule_element\\s+\"  # Fixed phrase\n",
    "        rf\"(?P<to_id>{to_id_pattern})#\"  # TO ID\n",
    "        rf\"(?P<co_id>{co_id_pattern})#\"  # CO ID\n",
    "        rf\"(?P<action>{action_pattern})\"  # Action (PICK, DROP, etc.)\n",
    "    )\n",
    "}\n",
    "\n",
    "\n",
    "def parse_log(log: str) -> tuple[Optional[str], Optional[dict]]:\n",
    "    log_pattern = None\n",
    "    extracted_data = None\n",
    "    for log_pattern_name, regex_compiler in log_patterns.items():\n",
    "        # Check if the log string matches current regex pattern\n",
    "        match = regex_compiler.match(log)\n",
    "        if match:\n",
    "            # Extract named groups if there's a match\n",
    "            log_pattern = log_pattern_name\n",
    "            extracted_data = match.groupdict()\n",
    "            if log_pattern == \"schedule\":\n",
    "                schedules = re.findall(rf\"\\d:(?P<to_id>{to_id_pattern})#(?P<co_id>{co_id_pattern})#(?P<action>{action_pattern})\", log)\n",
    "                extracted_data = {\n",
    "                    **extracted_data,\n",
    "                    \"schedules\": schedules\n",
    "                }\n",
    "\n",
    "            break\n",
    "\n",
    "    return log_pattern, extracted_data"
   ],
   "metadata": {
    "collapsed": false,
    "ExecuteTime": {
     "end_time": "2025-02-09T01:49:29.121628362Z",
     "start_time": "2025-02-09T01:49:29.071239154Z"
    }
   },
   "id": "31893fdbc63e2f95"
  },
  {
   "cell_type": "code",
   "execution_count": 115,
   "outputs": [],
   "source": [
    "relevant_logs = {log_pattern: [] for log_pattern in log_patterns}\n",
    "parsed_logs = []\n",
    "\n",
    "for log_line in log_lines:\n",
    "    pattern, data = parse_log(log_line)\n",
    "    if pattern:\n",
    "        relevant_logs[pattern].append(data)\n",
    "        parsed_logs.append((pattern, data))"
   ],
   "metadata": {
    "collapsed": false,
    "ExecuteTime": {
     "end_time": "2025-02-09T01:49:31.363242329Z",
     "start_time": "2025-02-09T01:49:31.157836931Z"
    }
   },
   "id": "6ec1d0be5af21550"
  },
  {
   "cell_type": "code",
   "execution_count": 116,
   "outputs": [
    {
     "name": "stdout",
     "output_type": "stream",
     "text": [
      "container_submission 286\n",
      "schedule 8225\n",
      "travel_action 572\n",
      "driving 572\n",
      "lane_usage 968\n",
      "action 1229\n",
      "schedule_element 572\n"
     ]
    }
   ],
   "source": [
    "for pattern, logs in relevant_logs.items():\n",
    "    print(pattern, len(logs))"
   ],
   "metadata": {
    "collapsed": false,
    "ExecuteTime": {
     "end_time": "2025-02-09T01:49:35.486664058Z",
     "start_time": "2025-02-09T01:49:35.483503369Z"
    }
   },
   "id": "9b5f633ec260fdfa"
  },
  {
   "cell_type": "code",
   "execution_count": 117,
   "outputs": [
    {
     "data": {
      "text/plain": "{'log_time': '2024-11-14 10:27:07',\n 'log_level': 'INFO',\n 'vehicle_id': 'SC001',\n 'schedules': [('TO_CO_TFTU000018', 'CO_TFTU000018', 'PICK', 'PICK'),\n  ('TO_CO_TFTU000018', 'CO_TFTU000018', 'DROP', 'DROP')]}"
     },
     "execution_count": 117,
     "metadata": {},
     "output_type": "execute_result"
    }
   ],
   "source": [
    "relevant_logs[\"schedule\"][0]"
   ],
   "metadata": {
    "collapsed": false,
    "ExecuteTime": {
     "end_time": "2025-02-09T01:49:49.841434405Z",
     "start_time": "2025-02-09T01:49:49.756391960Z"
    }
   },
   "id": "d2aa216cdd929605"
  },
  {
   "cell_type": "code",
   "execution_count": 82,
   "outputs": [
    {
     "data": {
      "text/plain": "[{'log_time': '2024-11-14 10:26:30',\n  'log_level': 'INFO',\n  'to_id': 'TO_CO_TFTU000023',\n  'submission_time': '2024-11-14 10:31:28+01:00'},\n {'log_time': '2024-11-14 10:27:07',\n  'log_level': 'INFO',\n  'vehicle_id': 'SC002',\n  'to_id': 'TO_CO_TFTU000023',\n  'co_id': 'CO_TFTU000023',\n  'action': 'PICK',\n  'travel_start_time': '2024-11-14 10:27:00+01:00',\n  'travel_end_time': '2024-11-14 10:27:29+01:00',\n  'action_start_time': '2024-11-14 10:27:29+01:00',\n  'action_end_time': '2024-11-14 10:28:29+01:00'},\n {'log_time': '2024-11-14 10:27:10',\n  'log_level': 'INFO',\n  'vehicle_id': 'SC002',\n  'to_id': 'TO_CO_TFTU000023',\n  'co_id': 'CO_TFTU000023',\n  'action': 'PICK',\n  'location_name': 'QC003',\n  'duration_in_s': '29',\n  'distance_in_mm': '162693'},\n {'log_time': '2024-11-14 10:30:07',\n  'log_level': 'DEBUG',\n  'location_name': 'QC003',\n  'action': 'using',\n  'lane_number': '0',\n  'co_id': 'CO_TFTU000023'},\n {'log_time': '2024-11-14 10:30:07',\n  'log_level': 'INFO',\n  'vehicle_id': 'SC002',\n  'to_id': 'TO_CO_TFTU000023',\n  'co_id': 'CO_TFTU000023',\n  'action': 'PICK',\n  'status': 'waited',\n  'location_name': 'QC003',\n  'duration_in_s': '158'},\n {'log_time': '2024-11-14 10:30:07',\n  'log_level': 'INFO',\n  'vehicle_id': 'SC002',\n  'to_id': 'TO_CO_TFTU000023',\n  'co_id': 'CO_TFTU000023',\n  'action': 'PICK',\n  'status': 'working',\n  'location_name': 'QC003',\n  'duration_in_s': '60'},\n {'log_time': '2024-11-14 10:31:07',\n  'log_level': 'DEBUG',\n  'location_name': 'QC003',\n  'action': 'freeing',\n  'lane_number': '0',\n  'co_id': 'CO_TFTU000023'},\n {'log_time': '2024-11-14 10:31:07',\n  'log_level': 'INFO',\n  'vehicle_id': 'SC002',\n  'to_id': 'TO_CO_TFTU000023',\n  'co_id': 'CO_TFTU000023',\n  'action': 'PICK',\n  'status': 'finished',\n  'location_name': 'QC003',\n  'duration_in_s': None},\n {'log_time': '2024-11-14 10:31:07',\n  'log_level': 'DEBUG',\n  'to_id': 'TO_CO_TFTU000023',\n  'co_id': 'CO_TFTU000023',\n  'action': 'PICK'},\n {'log_time': '2024-11-14 10:31:07',\n  'log_level': 'INFO',\n  'vehicle_id': 'SC002',\n  'to_id': 'TO_CO_TFTU000023',\n  'co_id': 'CO_TFTU000023',\n  'action': 'DROP',\n  'travel_start_time': '2024-11-14 10:36:03+01:00',\n  'travel_end_time': '2024-11-14 10:38:28+01:00',\n  'action_start_time': '2024-11-14 10:38:28+01:00',\n  'action_end_time': '2024-11-14 10:39:28+01:00'},\n {'log_time': '2024-11-14 10:31:07',\n  'log_level': 'INFO',\n  'vehicle_id': 'SC002',\n  'to_id': 'TO_CO_TFTU000023',\n  'co_id': 'CO_TFTU000023',\n  'action': 'DROP',\n  'location_name': 'WS015.01',\n  'duration_in_s': '146',\n  'distance_in_mm': '810685'},\n {'log_time': '2024-11-14 10:33:33',\n  'log_level': 'DEBUG',\n  'location_name': 'WS015.01',\n  'action': 'using',\n  'lane_number': '1',\n  'co_id': 'CO_TFTU000023'},\n {'log_time': '2024-11-14 10:33:33',\n  'log_level': 'INFO',\n  'vehicle_id': 'SC002',\n  'to_id': 'TO_CO_TFTU000023',\n  'co_id': 'CO_TFTU000023',\n  'action': 'DROP',\n  'status': 'working',\n  'location_name': 'WS015.01',\n  'duration_in_s': '60'},\n {'log_time': '2024-11-14 10:34:33',\n  'log_level': 'DEBUG',\n  'location_name': 'WS015.01',\n  'action': 'freeing',\n  'lane_number': '1',\n  'co_id': 'CO_TFTU000023'},\n {'log_time': '2024-11-14 10:34:33',\n  'log_level': 'INFO',\n  'vehicle_id': 'SC002',\n  'to_id': 'TO_CO_TFTU000023',\n  'co_id': 'CO_TFTU000023',\n  'action': 'DROP',\n  'status': 'finished',\n  'location_name': 'WS015.01',\n  'duration_in_s': None},\n {'log_time': '2024-11-14 10:34:33',\n  'log_level': 'DEBUG',\n  'to_id': 'TO_CO_TFTU000023',\n  'co_id': 'CO_TFTU000023',\n  'action': 'DROP'}]"
     },
     "execution_count": 82,
     "metadata": {},
     "output_type": "execute_result"
    }
   ],
   "source": [
    "sample_container_info = [d for (pattern, d) in parsed_logs if d.get(\"co_id\", None) == \"CO_TFTU000023\" or d.get(\"to_id\", None) == \"TO_CO_TFTU000023\"]\n",
    "sample_container_info"
   ],
   "metadata": {
    "collapsed": false,
    "ExecuteTime": {
     "end_time": "2025-02-08T22:14:02.611372925Z",
     "start_time": "2025-02-08T22:14:02.546782371Z"
    }
   },
   "id": "e4a59c3ee577dff1"
  },
  {
   "cell_type": "code",
   "execution_count": 83,
   "outputs": [
    {
     "data": {
      "text/plain": "               log_time log_level             to_id  \\\n0   2024-11-14 10:26:30      INFO  TO_CO_TFTU000023   \n1   2024-11-14 10:27:07      INFO  TO_CO_TFTU000023   \n2   2024-11-14 10:27:10      INFO  TO_CO_TFTU000023   \n3   2024-11-14 10:30:07     DEBUG               NaN   \n4   2024-11-14 10:30:07      INFO  TO_CO_TFTU000023   \n5   2024-11-14 10:30:07      INFO  TO_CO_TFTU000023   \n6   2024-11-14 10:31:07     DEBUG               NaN   \n7   2024-11-14 10:31:07      INFO  TO_CO_TFTU000023   \n8   2024-11-14 10:31:07     DEBUG  TO_CO_TFTU000023   \n9   2024-11-14 10:31:07      INFO  TO_CO_TFTU000023   \n10  2024-11-14 10:31:07      INFO  TO_CO_TFTU000023   \n11  2024-11-14 10:33:33     DEBUG               NaN   \n12  2024-11-14 10:33:33      INFO  TO_CO_TFTU000023   \n13  2024-11-14 10:34:33     DEBUG               NaN   \n14  2024-11-14 10:34:33      INFO  TO_CO_TFTU000023   \n15  2024-11-14 10:34:33     DEBUG  TO_CO_TFTU000023   \n\n              submission_time vehicle_id          co_id   action  \\\n0   2024-11-14 10:31:28+01:00        NaN            NaN      NaN   \n1                         NaN      SC002  CO_TFTU000023     PICK   \n2                         NaN      SC002  CO_TFTU000023     PICK   \n3                         NaN        NaN  CO_TFTU000023    using   \n4                         NaN      SC002  CO_TFTU000023     PICK   \n5                         NaN      SC002  CO_TFTU000023     PICK   \n6                         NaN        NaN  CO_TFTU000023  freeing   \n7                         NaN      SC002  CO_TFTU000023     PICK   \n8                         NaN        NaN  CO_TFTU000023     PICK   \n9                         NaN      SC002  CO_TFTU000023     DROP   \n10                        NaN      SC002  CO_TFTU000023     DROP   \n11                        NaN        NaN  CO_TFTU000023    using   \n12                        NaN      SC002  CO_TFTU000023     DROP   \n13                        NaN        NaN  CO_TFTU000023  freeing   \n14                        NaN      SC002  CO_TFTU000023     DROP   \n15                        NaN        NaN  CO_TFTU000023     DROP   \n\n            travel_start_time            travel_end_time  \\\n0                         NaN                        NaN   \n1   2024-11-14 10:27:00+01:00  2024-11-14 10:27:29+01:00   \n2                         NaN                        NaN   \n3                         NaN                        NaN   \n4                         NaN                        NaN   \n5                         NaN                        NaN   \n6                         NaN                        NaN   \n7                         NaN                        NaN   \n8                         NaN                        NaN   \n9   2024-11-14 10:36:03+01:00  2024-11-14 10:38:28+01:00   \n10                        NaN                        NaN   \n11                        NaN                        NaN   \n12                        NaN                        NaN   \n13                        NaN                        NaN   \n14                        NaN                        NaN   \n15                        NaN                        NaN   \n\n            action_start_time            action_end_time location_name  \\\n0                         NaN                        NaN           NaN   \n1   2024-11-14 10:27:29+01:00  2024-11-14 10:28:29+01:00           NaN   \n2                         NaN                        NaN         QC003   \n3                         NaN                        NaN         QC003   \n4                         NaN                        NaN         QC003   \n5                         NaN                        NaN         QC003   \n6                         NaN                        NaN         QC003   \n7                         NaN                        NaN         QC003   \n8                         NaN                        NaN           NaN   \n9   2024-11-14 10:38:28+01:00  2024-11-14 10:39:28+01:00           NaN   \n10                        NaN                        NaN      WS015.01   \n11                        NaN                        NaN      WS015.01   \n12                        NaN                        NaN      WS015.01   \n13                        NaN                        NaN      WS015.01   \n14                        NaN                        NaN      WS015.01   \n15                        NaN                        NaN           NaN   \n\n   duration_in_s distance_in_mm lane_number    status  \n0            NaN            NaN         NaN       NaN  \n1            NaN            NaN         NaN       NaN  \n2             29         162693         NaN       NaN  \n3            NaN            NaN           0       NaN  \n4            158            NaN         NaN    waited  \n5             60            NaN         NaN   working  \n6            NaN            NaN           0       NaN  \n7           None            NaN         NaN  finished  \n8            NaN            NaN         NaN       NaN  \n9            NaN            NaN         NaN       NaN  \n10           146         810685         NaN       NaN  \n11           NaN            NaN           1       NaN  \n12            60            NaN         NaN   working  \n13           NaN            NaN           1       NaN  \n14          None            NaN         NaN  finished  \n15           NaN            NaN         NaN       NaN  ",
      "text/html": "<div>\n<style scoped>\n    .dataframe tbody tr th:only-of-type {\n        vertical-align: middle;\n    }\n\n    .dataframe tbody tr th {\n        vertical-align: top;\n    }\n\n    .dataframe thead th {\n        text-align: right;\n    }\n</style>\n<table border=\"1\" class=\"dataframe\">\n  <thead>\n    <tr style=\"text-align: right;\">\n      <th></th>\n      <th>log_time</th>\n      <th>log_level</th>\n      <th>to_id</th>\n      <th>submission_time</th>\n      <th>vehicle_id</th>\n      <th>co_id</th>\n      <th>action</th>\n      <th>travel_start_time</th>\n      <th>travel_end_time</th>\n      <th>action_start_time</th>\n      <th>action_end_time</th>\n      <th>location_name</th>\n      <th>duration_in_s</th>\n      <th>distance_in_mm</th>\n      <th>lane_number</th>\n      <th>status</th>\n    </tr>\n  </thead>\n  <tbody>\n    <tr>\n      <th>0</th>\n      <td>2024-11-14 10:26:30</td>\n      <td>INFO</td>\n      <td>TO_CO_TFTU000023</td>\n      <td>2024-11-14 10:31:28+01:00</td>\n      <td>NaN</td>\n      <td>NaN</td>\n      <td>NaN</td>\n      <td>NaN</td>\n      <td>NaN</td>\n      <td>NaN</td>\n      <td>NaN</td>\n      <td>NaN</td>\n      <td>NaN</td>\n      <td>NaN</td>\n      <td>NaN</td>\n      <td>NaN</td>\n    </tr>\n    <tr>\n      <th>1</th>\n      <td>2024-11-14 10:27:07</td>\n      <td>INFO</td>\n      <td>TO_CO_TFTU000023</td>\n      <td>NaN</td>\n      <td>SC002</td>\n      <td>CO_TFTU000023</td>\n      <td>PICK</td>\n      <td>2024-11-14 10:27:00+01:00</td>\n      <td>2024-11-14 10:27:29+01:00</td>\n      <td>2024-11-14 10:27:29+01:00</td>\n      <td>2024-11-14 10:28:29+01:00</td>\n      <td>NaN</td>\n      <td>NaN</td>\n      <td>NaN</td>\n      <td>NaN</td>\n      <td>NaN</td>\n    </tr>\n    <tr>\n      <th>2</th>\n      <td>2024-11-14 10:27:10</td>\n      <td>INFO</td>\n      <td>TO_CO_TFTU000023</td>\n      <td>NaN</td>\n      <td>SC002</td>\n      <td>CO_TFTU000023</td>\n      <td>PICK</td>\n      <td>NaN</td>\n      <td>NaN</td>\n      <td>NaN</td>\n      <td>NaN</td>\n      <td>QC003</td>\n      <td>29</td>\n      <td>162693</td>\n      <td>NaN</td>\n      <td>NaN</td>\n    </tr>\n    <tr>\n      <th>3</th>\n      <td>2024-11-14 10:30:07</td>\n      <td>DEBUG</td>\n      <td>NaN</td>\n      <td>NaN</td>\n      <td>NaN</td>\n      <td>CO_TFTU000023</td>\n      <td>using</td>\n      <td>NaN</td>\n      <td>NaN</td>\n      <td>NaN</td>\n      <td>NaN</td>\n      <td>QC003</td>\n      <td>NaN</td>\n      <td>NaN</td>\n      <td>0</td>\n      <td>NaN</td>\n    </tr>\n    <tr>\n      <th>4</th>\n      <td>2024-11-14 10:30:07</td>\n      <td>INFO</td>\n      <td>TO_CO_TFTU000023</td>\n      <td>NaN</td>\n      <td>SC002</td>\n      <td>CO_TFTU000023</td>\n      <td>PICK</td>\n      <td>NaN</td>\n      <td>NaN</td>\n      <td>NaN</td>\n      <td>NaN</td>\n      <td>QC003</td>\n      <td>158</td>\n      <td>NaN</td>\n      <td>NaN</td>\n      <td>waited</td>\n    </tr>\n    <tr>\n      <th>5</th>\n      <td>2024-11-14 10:30:07</td>\n      <td>INFO</td>\n      <td>TO_CO_TFTU000023</td>\n      <td>NaN</td>\n      <td>SC002</td>\n      <td>CO_TFTU000023</td>\n      <td>PICK</td>\n      <td>NaN</td>\n      <td>NaN</td>\n      <td>NaN</td>\n      <td>NaN</td>\n      <td>QC003</td>\n      <td>60</td>\n      <td>NaN</td>\n      <td>NaN</td>\n      <td>working</td>\n    </tr>\n    <tr>\n      <th>6</th>\n      <td>2024-11-14 10:31:07</td>\n      <td>DEBUG</td>\n      <td>NaN</td>\n      <td>NaN</td>\n      <td>NaN</td>\n      <td>CO_TFTU000023</td>\n      <td>freeing</td>\n      <td>NaN</td>\n      <td>NaN</td>\n      <td>NaN</td>\n      <td>NaN</td>\n      <td>QC003</td>\n      <td>NaN</td>\n      <td>NaN</td>\n      <td>0</td>\n      <td>NaN</td>\n    </tr>\n    <tr>\n      <th>7</th>\n      <td>2024-11-14 10:31:07</td>\n      <td>INFO</td>\n      <td>TO_CO_TFTU000023</td>\n      <td>NaN</td>\n      <td>SC002</td>\n      <td>CO_TFTU000023</td>\n      <td>PICK</td>\n      <td>NaN</td>\n      <td>NaN</td>\n      <td>NaN</td>\n      <td>NaN</td>\n      <td>QC003</td>\n      <td>None</td>\n      <td>NaN</td>\n      <td>NaN</td>\n      <td>finished</td>\n    </tr>\n    <tr>\n      <th>8</th>\n      <td>2024-11-14 10:31:07</td>\n      <td>DEBUG</td>\n      <td>TO_CO_TFTU000023</td>\n      <td>NaN</td>\n      <td>NaN</td>\n      <td>CO_TFTU000023</td>\n      <td>PICK</td>\n      <td>NaN</td>\n      <td>NaN</td>\n      <td>NaN</td>\n      <td>NaN</td>\n      <td>NaN</td>\n      <td>NaN</td>\n      <td>NaN</td>\n      <td>NaN</td>\n      <td>NaN</td>\n    </tr>\n    <tr>\n      <th>9</th>\n      <td>2024-11-14 10:31:07</td>\n      <td>INFO</td>\n      <td>TO_CO_TFTU000023</td>\n      <td>NaN</td>\n      <td>SC002</td>\n      <td>CO_TFTU000023</td>\n      <td>DROP</td>\n      <td>2024-11-14 10:36:03+01:00</td>\n      <td>2024-11-14 10:38:28+01:00</td>\n      <td>2024-11-14 10:38:28+01:00</td>\n      <td>2024-11-14 10:39:28+01:00</td>\n      <td>NaN</td>\n      <td>NaN</td>\n      <td>NaN</td>\n      <td>NaN</td>\n      <td>NaN</td>\n    </tr>\n    <tr>\n      <th>10</th>\n      <td>2024-11-14 10:31:07</td>\n      <td>INFO</td>\n      <td>TO_CO_TFTU000023</td>\n      <td>NaN</td>\n      <td>SC002</td>\n      <td>CO_TFTU000023</td>\n      <td>DROP</td>\n      <td>NaN</td>\n      <td>NaN</td>\n      <td>NaN</td>\n      <td>NaN</td>\n      <td>WS015.01</td>\n      <td>146</td>\n      <td>810685</td>\n      <td>NaN</td>\n      <td>NaN</td>\n    </tr>\n    <tr>\n      <th>11</th>\n      <td>2024-11-14 10:33:33</td>\n      <td>DEBUG</td>\n      <td>NaN</td>\n      <td>NaN</td>\n      <td>NaN</td>\n      <td>CO_TFTU000023</td>\n      <td>using</td>\n      <td>NaN</td>\n      <td>NaN</td>\n      <td>NaN</td>\n      <td>NaN</td>\n      <td>WS015.01</td>\n      <td>NaN</td>\n      <td>NaN</td>\n      <td>1</td>\n      <td>NaN</td>\n    </tr>\n    <tr>\n      <th>12</th>\n      <td>2024-11-14 10:33:33</td>\n      <td>INFO</td>\n      <td>TO_CO_TFTU000023</td>\n      <td>NaN</td>\n      <td>SC002</td>\n      <td>CO_TFTU000023</td>\n      <td>DROP</td>\n      <td>NaN</td>\n      <td>NaN</td>\n      <td>NaN</td>\n      <td>NaN</td>\n      <td>WS015.01</td>\n      <td>60</td>\n      <td>NaN</td>\n      <td>NaN</td>\n      <td>working</td>\n    </tr>\n    <tr>\n      <th>13</th>\n      <td>2024-11-14 10:34:33</td>\n      <td>DEBUG</td>\n      <td>NaN</td>\n      <td>NaN</td>\n      <td>NaN</td>\n      <td>CO_TFTU000023</td>\n      <td>freeing</td>\n      <td>NaN</td>\n      <td>NaN</td>\n      <td>NaN</td>\n      <td>NaN</td>\n      <td>WS015.01</td>\n      <td>NaN</td>\n      <td>NaN</td>\n      <td>1</td>\n      <td>NaN</td>\n    </tr>\n    <tr>\n      <th>14</th>\n      <td>2024-11-14 10:34:33</td>\n      <td>INFO</td>\n      <td>TO_CO_TFTU000023</td>\n      <td>NaN</td>\n      <td>SC002</td>\n      <td>CO_TFTU000023</td>\n      <td>DROP</td>\n      <td>NaN</td>\n      <td>NaN</td>\n      <td>NaN</td>\n      <td>NaN</td>\n      <td>WS015.01</td>\n      <td>None</td>\n      <td>NaN</td>\n      <td>NaN</td>\n      <td>finished</td>\n    </tr>\n    <tr>\n      <th>15</th>\n      <td>2024-11-14 10:34:33</td>\n      <td>DEBUG</td>\n      <td>TO_CO_TFTU000023</td>\n      <td>NaN</td>\n      <td>NaN</td>\n      <td>CO_TFTU000023</td>\n      <td>DROP</td>\n      <td>NaN</td>\n      <td>NaN</td>\n      <td>NaN</td>\n      <td>NaN</td>\n      <td>NaN</td>\n      <td>NaN</td>\n      <td>NaN</td>\n      <td>NaN</td>\n      <td>NaN</td>\n    </tr>\n  </tbody>\n</table>\n</div>"
     },
     "execution_count": 83,
     "metadata": {},
     "output_type": "execute_result"
    }
   ],
   "source": [
    "pd.DataFrame(sample_container_info)"
   ],
   "metadata": {
    "collapsed": false,
    "ExecuteTime": {
     "end_time": "2025-02-08T22:14:11.437282254Z",
     "start_time": "2025-02-08T22:14:11.394577864Z"
    }
   },
   "id": "6411bf7c3825f77f"
  },
  {
   "cell_type": "code",
   "execution_count": 118,
   "outputs": [],
   "source": [
    "event_log = []\n",
    "for pattern, log_data in parsed_logs:\n",
    "    if pattern == \"container_submission\":\n",
    "        co_id = log_data[\"to_id\"].removeprefix(\"TO_\")\n",
    "        submission_start = {\n",
    "            \"to_id\": log_data[\"to_id\"],\n",
    "            \"co_id\": co_id,\n",
    "            \"action\": \"submission\",\n",
    "            \"timestamp\": log_data[\"submission_time\"],\n",
    "            \"lifecycle\": \"start\"\n",
    "        }\n",
    "        submission_end = {\n",
    "            \"to_id\": log_data[\"to_id\"],\n",
    "            \"co_id\": co_id,\n",
    "            \"action\": \"submission\",\n",
    "            \"timestamp\": log_data[\"submission_time\"],\n",
    "            \"lifecycle\": \"complete\"\n",
    "        }\n",
    "        event_log.extend([submission_start, submission_end])\n",
    "    elif pattern == \"schedule\":\n",
    "        for schedule_data in log_data[\"schedules\"]:\n",
    "            to_id, co_id, action = schedule_data[:3]\n",
    "            event_log.append({\n",
    "                \"to_id\": to_id,\n",
    "                \"co_id\": co_id,\n",
    "                \"vehicle_id\": None,\n",
    "                \"action\": \"pick container\" if action == \"PICK\" else \"drop container\",\n",
    "                \"timestamp\": log_data[\"log_time\"],\n",
    "                \"lifecycle\": \"schedule\"\n",
    "            })\n",
    "    elif pattern == \"travel_action\":\n",
    "        travel_start = {\n",
    "            \"to_id\": log_data[\"to_id\"],\n",
    "            \"co_id\": log_data[\"co_id\"],\n",
    "            \"vehicle_id\": log_data[\"vehicle_id\"],\n",
    "            \"action\": \"deploy vehicle to pick container\" if log_data[\"action\"] == \"PICK\" else \"deploy vehicle to drop container\",\n",
    "            \"timestamp\": log_data[\"travel_start_time\"],\n",
    "            \"lifecycle\": \"start\"\n",
    "        }\n",
    "        travel_end = {\n",
    "            \"to_id\": log_data[\"to_id\"],\n",
    "            \"co_id\": log_data[\"co_id\"],\n",
    "            \"vehicle_id\": log_data[\"vehicle_id\"],\n",
    "            \"action\": \"deploy vehicle to pick container\" if log_data[\"action\"] == \"PICK\" else \"deploy vehicle to drop container\",\n",
    "            \"timestamp\": log_data[\"travel_start_time\"],\n",
    "            \"lifecycle\": \"complete\"\n",
    "        }\n",
    "        action_start = {\n",
    "            \"to_id\": log_data[\"to_id\"],\n",
    "            \"co_id\": log_data[\"co_id\"],\n",
    "            \"vehicle_id\": log_data[\"vehicle_id\"],\n",
    "            \"action\": \"pick container\" if log_data[\"action\"] == \"PICK\" else \"drop container\",\n",
    "            \"timestamp\": log_data[\"action_start_time\"],\n",
    "            \"lifecycle\": \"start\"\n",
    "        }\n",
    "        action_end = {\n",
    "            \"to_id\": log_data[\"to_id\"],\n",
    "            \"co_id\": log_data[\"co_id\"],\n",
    "            \"vehicle_id\": log_data[\"vehicle_id\"],\n",
    "            \"action\": \"pick container\" if log_data[\"action\"] == \"PICK\" else \"drop container\",\n",
    "            \"timestamp\": log_data[\"action_end_time\"],\n",
    "            \"lifecycle\": \"complete\"\n",
    "        }\n",
    "        event_log.extend([travel_start, travel_end, action_start, action_end])\n",
    "\n"
   ],
   "metadata": {
    "collapsed": false,
    "ExecuteTime": {
     "end_time": "2025-02-09T01:50:14.324399083Z",
     "start_time": "2025-02-09T01:50:14.249614298Z"
    }
   },
   "id": "9cf327f4b794da6e"
  },
  {
   "cell_type": "code",
   "execution_count": 123,
   "outputs": [
    {
     "name": "stderr",
     "output_type": "stream",
     "text": [
      "/tmp/ipykernel_5171/2304532674.py:2: DeprecationWarning: DataFrameGroupBy.apply operated on the grouping columns. This behavior is deprecated, and in a future version of pandas the grouping columns will be excluded from the operation. Either pass `include_groups=False` to exclude the groupings or explicitly select the grouping columns after groupby to silence this warning.\n",
      "  event_log_df.groupby(\"co_id\", as_index=False).apply(lambda x: x.sort_values('timestamp'))\n"
     ]
    },
    {
     "data": {
      "text/plain": "                      to_id          co_id                            action  \\\n0   0      TO_CO_TFTU000001  CO_TFTU000001                        submission   \n    1      TO_CO_TFTU000001  CO_TFTU000001                        submission   \n    162    TO_CO_TFTU000001  CO_TFTU000001  deploy vehicle to pick container   \n    163    TO_CO_TFTU000001  CO_TFTU000001  deploy vehicle to pick container   \n    116    TO_CO_TFTU000001  CO_TFTU000001                    pick container   \n...                     ...            ...                               ...   \n285 27304  TO_CO_TFTU000286  CO_TFTU000286                    pick container   \n    26469  TO_CO_TFTU000286  CO_TFTU000286                        submission   \n    26468  TO_CO_TFTU000286  CO_TFTU000286                        submission   \n    28399  TO_CO_TFTU000286  CO_TFTU000286                    drop container   \n    28400  TO_CO_TFTU000286  CO_TFTU000286                    drop container   \n\n                           timestamp lifecycle vehicle_id  \n0   0      2024-11-14 10:26:28+01:00     start        NaN  \n    1      2024-11-14 10:26:28+01:00  complete        NaN  \n    162    2024-11-14 10:27:00+01:00     start      SC004  \n    163    2024-11-14 10:27:00+01:00  complete      SC004  \n    116          2024-11-14 10:27:07  schedule       None  \n...                              ...       ...        ...  \n285 27304  2024-11-14 11:33:48+01:00  complete      SC019  \n    26469  2024-11-14 11:34:28+01:00  complete        NaN  \n    26468  2024-11-14 11:34:28+01:00     start        NaN  \n    28399  2024-11-14 11:35:34+01:00     start      SC019  \n    28400  2024-11-14 11:36:34+01:00  complete      SC019  \n\n[29995 rows x 6 columns]",
      "text/html": "<div>\n<style scoped>\n    .dataframe tbody tr th:only-of-type {\n        vertical-align: middle;\n    }\n\n    .dataframe tbody tr th {\n        vertical-align: top;\n    }\n\n    .dataframe thead th {\n        text-align: right;\n    }\n</style>\n<table border=\"1\" class=\"dataframe\">\n  <thead>\n    <tr style=\"text-align: right;\">\n      <th></th>\n      <th></th>\n      <th>to_id</th>\n      <th>co_id</th>\n      <th>action</th>\n      <th>timestamp</th>\n      <th>lifecycle</th>\n      <th>vehicle_id</th>\n    </tr>\n  </thead>\n  <tbody>\n    <tr>\n      <th rowspan=\"5\" valign=\"top\">0</th>\n      <th>0</th>\n      <td>TO_CO_TFTU000001</td>\n      <td>CO_TFTU000001</td>\n      <td>submission</td>\n      <td>2024-11-14 10:26:28+01:00</td>\n      <td>start</td>\n      <td>NaN</td>\n    </tr>\n    <tr>\n      <th>1</th>\n      <td>TO_CO_TFTU000001</td>\n      <td>CO_TFTU000001</td>\n      <td>submission</td>\n      <td>2024-11-14 10:26:28+01:00</td>\n      <td>complete</td>\n      <td>NaN</td>\n    </tr>\n    <tr>\n      <th>162</th>\n      <td>TO_CO_TFTU000001</td>\n      <td>CO_TFTU000001</td>\n      <td>deploy vehicle to pick container</td>\n      <td>2024-11-14 10:27:00+01:00</td>\n      <td>start</td>\n      <td>SC004</td>\n    </tr>\n    <tr>\n      <th>163</th>\n      <td>TO_CO_TFTU000001</td>\n      <td>CO_TFTU000001</td>\n      <td>deploy vehicle to pick container</td>\n      <td>2024-11-14 10:27:00+01:00</td>\n      <td>complete</td>\n      <td>SC004</td>\n    </tr>\n    <tr>\n      <th>116</th>\n      <td>TO_CO_TFTU000001</td>\n      <td>CO_TFTU000001</td>\n      <td>pick container</td>\n      <td>2024-11-14 10:27:07</td>\n      <td>schedule</td>\n      <td>None</td>\n    </tr>\n    <tr>\n      <th>...</th>\n      <th>...</th>\n      <td>...</td>\n      <td>...</td>\n      <td>...</td>\n      <td>...</td>\n      <td>...</td>\n      <td>...</td>\n    </tr>\n    <tr>\n      <th rowspan=\"5\" valign=\"top\">285</th>\n      <th>27304</th>\n      <td>TO_CO_TFTU000286</td>\n      <td>CO_TFTU000286</td>\n      <td>pick container</td>\n      <td>2024-11-14 11:33:48+01:00</td>\n      <td>complete</td>\n      <td>SC019</td>\n    </tr>\n    <tr>\n      <th>26469</th>\n      <td>TO_CO_TFTU000286</td>\n      <td>CO_TFTU000286</td>\n      <td>submission</td>\n      <td>2024-11-14 11:34:28+01:00</td>\n      <td>complete</td>\n      <td>NaN</td>\n    </tr>\n    <tr>\n      <th>26468</th>\n      <td>TO_CO_TFTU000286</td>\n      <td>CO_TFTU000286</td>\n      <td>submission</td>\n      <td>2024-11-14 11:34:28+01:00</td>\n      <td>start</td>\n      <td>NaN</td>\n    </tr>\n    <tr>\n      <th>28399</th>\n      <td>TO_CO_TFTU000286</td>\n      <td>CO_TFTU000286</td>\n      <td>drop container</td>\n      <td>2024-11-14 11:35:34+01:00</td>\n      <td>start</td>\n      <td>SC019</td>\n    </tr>\n    <tr>\n      <th>28400</th>\n      <td>TO_CO_TFTU000286</td>\n      <td>CO_TFTU000286</td>\n      <td>drop container</td>\n      <td>2024-11-14 11:36:34+01:00</td>\n      <td>complete</td>\n      <td>SC019</td>\n    </tr>\n  </tbody>\n</table>\n<p>29995 rows × 6 columns</p>\n</div>"
     },
     "execution_count": 123,
     "metadata": {},
     "output_type": "execute_result"
    }
   ],
   "source": [
    "event_log_df = pd.DataFrame(event_log)\n",
    "event_log_df.groupby(\"co_id\", as_index=False).apply(lambda x: x.sort_values('timestamp'))"
   ],
   "metadata": {
    "collapsed": false,
    "ExecuteTime": {
     "end_time": "2025-02-09T01:53:19.230905187Z",
     "start_time": "2025-02-09T01:53:17.989476849Z"
    }
   },
   "id": "2ff8adfcef4a1af3"
  },
  {
   "cell_type": "code",
   "execution_count": 60,
   "outputs": [],
   "source": [
    "vehicles_meta_df = pd.read_excel(\"../data/VOSimu-InputInformation.xlsx\", sheet_name=\"Vehicles\")\n",
    "locations_meta_df = pd.read_excel(\"../data/VOSimu-InputInformation.xlsx\", sheet_name=\"Locations\")\n",
    "co_meta_df = pd.read_excel(\"../data/VOSimu-InputInformation.xlsx\", sheet_name=\"ContainerOrders\")"
   ],
   "metadata": {
    "collapsed": false,
    "ExecuteTime": {
     "end_time": "2025-02-08T18:57:03.378701119Z",
     "start_time": "2025-02-08T18:57:01.906768347Z"
    }
   },
   "id": "e2f8ee355f03cddb"
  },
  {
   "cell_type": "markdown",
   "source": [
    "Pipeline Overview:\n",
    "\n",
    "A vehicle is assigned to a specific container. The vehicle drive from its original location to pick up the container. Once picked up, the container is taken all way to its destination and dropped by the vehicle."
   ],
   "metadata": {
    "collapsed": false
   },
   "id": "d7c53bcab1444489"
  },
  {
   "cell_type": "code",
   "execution_count": null,
   "outputs": [],
   "source": [],
   "metadata": {
    "collapsed": false
   },
   "id": "b79f4a6b225aa338"
  }
 ],
 "metadata": {
  "kernelspec": {
   "display_name": "Python 3",
   "language": "python",
   "name": "python3"
  },
  "language_info": {
   "codemirror_mode": {
    "name": "ipython",
    "version": 2
   },
   "file_extension": ".py",
   "mimetype": "text/x-python",
   "name": "python",
   "nbconvert_exporter": "python",
   "pygments_lexer": "ipython2",
   "version": "2.7.6"
  }
 },
 "nbformat": 4,
 "nbformat_minor": 5
}
